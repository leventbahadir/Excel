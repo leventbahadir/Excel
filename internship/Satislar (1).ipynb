{
 "cells": [
  {
   "cell_type": "code",
   "execution_count": null,
   "id": "68bb5480-a7cf-4ded-bb6d-f6ee9b121a9a",
   "metadata": {},
   "outputs": [],
   "source": [
    "# Gerekli kütüphaneleri import ettik."
   ]
  },
  {
   "cell_type": "code",
   "execution_count": 1,
   "id": "37d0fd84-ca0d-4a35-9150-a13064944a9c",
   "metadata": {},
   "outputs": [],
   "source": [
    "import pandas as pd\n",
    "import numpy as np\n",
    "import matplotlib.pyplot as plt\n",
    "import seaborn as sns\n",
    "\n",
    "import warnings\n",
    "warnings.filterwarnings(\"ignore\")\n",
    "warnings.warn(\"thisnwill not show\")"
   ]
  },
  {
   "cell_type": "code",
   "execution_count": null,
   "id": "eeef1a56-f996-44a7-8a9c-45d624e6bef6",
   "metadata": {},
   "outputs": [],
   "source": [
    "# Datayı import ediyoruz ve sonrasında datanın genel durumunu göre bilmek için info() fonksiyonunu çağırıyoruz."
   ]
  },
  {
   "cell_type": "code",
   "execution_count": 2,
   "id": "fb8f6dcd-954c-400d-98d5-3f0385bd8c22",
   "metadata": {},
   "outputs": [
    {
     "name": "stdout",
     "output_type": "stream",
     "text": [
      "<class 'pandas.core.frame.DataFrame'>\n",
      "RangeIndex: 190031 entries, 0 to 190030\n",
      "Data columns (total 23 columns):\n",
      " #   Column                 Non-Null Count  Dtype  \n",
      "---  ------                 --------------  -----  \n",
      " 0   nOrderId               95016 non-null  float64\n",
      " 1   Company                56758 non-null  object \n",
      " 2   Customer ID            94975 non-null  object \n",
      " 3   cPostCode              94972 non-null  object \n",
      " 4   dReceievedDate         95016 non-null  object \n",
      " 5   Country                95016 non-null  object \n",
      " 6   status                 95016 non-null  object \n",
      " 7   Processed              95016 non-null  float64\n",
      " 8   ProcessedDate          91552 non-null  object \n",
      " 9   Source                 95016 non-null  object \n",
      " 10  Currency               95016 non-null  object \n",
      " 11  Subtotal               95016 non-null  float64\n",
      " 12  Tax                    95016 non-null  float64\n",
      " 13  Total                  95016 non-null  float64\n",
      " 14  OrderItemSKU           95016 non-null  object \n",
      " 15  OrderItemTitle         95016 non-null  object \n",
      " 16  ItemCategory           95016 non-null  object \n",
      " 17  OrderItemQuantity      95016 non-null  float64\n",
      " 18  DispatchStockUnitCost  91552 non-null  float64\n",
      " 19  TotalWeight            95016 non-null  float64\n",
      " 20  PurchasePrice          95016 non-null  float64\n",
      " 21  TrackingNumber         86842 non-null  object \n",
      " 22  PostalService          95016 non-null  object \n",
      "dtypes: float64(9), object(14)\n",
      "memory usage: 33.3+ MB\n"
     ]
    }
   ],
   "source": [
    "df = pd.read_excel(r\"C:\\Users\\Admin\\Desktop\\intern project\\orjinal datalar\\Satislar.xlsx\")\n",
    "df.info()"
   ]
  },
  {
   "cell_type": "code",
   "execution_count": null,
   "id": "47ae3308-7780-4a57-b06d-7f39075f95ae",
   "metadata": {},
   "outputs": [],
   "source": [
    "# datamızdaki nan değerlerin oranlarını kontrol ediyoruz."
   ]
  },
  {
   "cell_type": "code",
   "execution_count": 3,
   "id": "18e027b5-790c-4279-864d-7db8a8925fce",
   "metadata": {},
   "outputs": [
    {
     "data": {
      "text/plain": [
       "nOrderId                 49.99974\n",
       "Company                  70.13224\n",
       "Customer ID              50.02131\n",
       "cPostCode                50.02289\n",
       "dReceievedDate           49.99974\n",
       "Country                  49.99974\n",
       "status                   49.99974\n",
       "Processed                49.99974\n",
       "ProcessedDate            51.82260\n",
       "Source                   49.99974\n",
       "Currency                 49.99974\n",
       "Subtotal                 49.99974\n",
       "Tax                      49.99974\n",
       "Total                    49.99974\n",
       "OrderItemSKU             49.99974\n",
       "OrderItemTitle           49.99974\n",
       "ItemCategory             49.99974\n",
       "OrderItemQuantity        49.99974\n",
       "DispatchStockUnitCost    51.82260\n",
       "TotalWeight              49.99974\n",
       "PurchasePrice            49.99974\n",
       "TrackingNumber           54.30114\n",
       "PostalService            49.99974\n",
       "dtype: float64"
      ]
     },
     "execution_count": 3,
     "metadata": {},
     "output_type": "execute_result"
    }
   ],
   "source": [
    "round((df.isna().sum()/df.shape[0]*100), 5)"
   ]
  },
  {
   "cell_type": "code",
   "execution_count": null,
   "id": "e45ad9ba-4c5c-40e9-9633-78d74d9a516e",
   "metadata": {},
   "outputs": [],
   "source": [
    "# sütun isimlerinde boşluk, gereksiz karakterler olup olmadığını kontrol ediyoruz."
   ]
  },
  {
   "cell_type": "code",
   "execution_count": 6,
   "id": "22896f3f-e003-4ca0-89ab-cf9362e9dc27",
   "metadata": {},
   "outputs": [
    {
     "data": {
      "text/plain": [
       "Index(['nOrderId', 'Company', 'Customer ID', 'cPostCode', 'dReceievedDate',\n",
       "       'Country', 'status', 'Processed', 'ProcessedDate', 'Source', 'Currency',\n",
       "       'Subtotal', 'Tax', 'Total', 'OrderItemSKU', 'OrderItemTitle',\n",
       "       'ItemCategory', 'OrderItemQuantity', 'DispatchStockUnitCost',\n",
       "       'TotalWeight', 'PurchasePrice', 'TrackingNumber', 'PostalService'],\n",
       "      dtype='object')"
      ]
     },
     "execution_count": 6,
     "metadata": {},
     "output_type": "execute_result"
    }
   ],
   "source": [
    "df.columns.unique()"
   ]
  },
  {
   "cell_type": "code",
   "execution_count": null,
   "id": "1d6fee2b-351d-4cf8-91ea-d56d0c8c0a07",
   "metadata": {},
   "outputs": [],
   "source": [
    "# sütun isimlerinde datanın genel isimlerine göre düzeltmeler yapıyoruz."
   ]
  },
  {
   "cell_type": "code",
   "execution_count": 7,
   "id": "b591a212-983e-4cf5-aae3-b31be47c28e3",
   "metadata": {},
   "outputs": [],
   "source": [
    "df.rename(columns={\"nOrderId\":\"OrderId\",\n",
    "                   \"Customer ID\":\"CustomerID\",\n",
    "                   \"cPostCode\":\"Post_Code\",\n",
    "                   \"dReceievedDate\":\"ReceivedDate\",\n",
    "                   }, inplace=True)   "
   ]
  },
  {
   "cell_type": "code",
   "execution_count": null,
   "id": "3cef5a35-aca2-4031-83ba-fa8e5a22827e",
   "metadata": {},
   "outputs": [],
   "source": [
    "# datamızda bütün satırlarda ortak olarak bulunan nan değerleri atıyoruz."
   ]
  },
  {
   "cell_type": "code",
   "execution_count": 8,
   "id": "d4432435-9c57-4502-a02d-fc240ea66173",
   "metadata": {},
   "outputs": [],
   "source": [
    "df.dropna(subset= [\"OrderId\"], inplace=True)"
   ]
  },
  {
   "cell_type": "code",
   "execution_count": null,
   "id": "5d206a81-3f5c-4083-bcd0-0eb9141f68d4",
   "metadata": {},
   "outputs": [],
   "source": [
    "# Oortak nan değerler çıktıktan sonra datanın missing value değerlerine bakıyoruz."
   ]
  },
  {
   "cell_type": "code",
   "execution_count": 9,
   "id": "6301e1ac-0660-4d2b-9ed0-4667b83e1546",
   "metadata": {},
   "outputs": [
    {
     "data": {
      "text/plain": [
       "OrderId                   0.00000\n",
       "Company                  40.26480\n",
       "CustomerID                0.04315\n",
       "Post_Code                 0.04631\n",
       "ReceivedDate              0.00000\n",
       "Country                   0.00000\n",
       "status                    0.00000\n",
       "Processed                 0.00000\n",
       "ProcessedDate             3.64570\n",
       "Source                    0.00000\n",
       "Currency                  0.00000\n",
       "Subtotal                  0.00000\n",
       "Tax                       0.00000\n",
       "Total                     0.00000\n",
       "OrderItemSKU              0.00000\n",
       "OrderItemTitle            0.00000\n",
       "ItemCategory              0.00000\n",
       "OrderItemQuantity         0.00000\n",
       "DispatchStockUnitCost     3.64570\n",
       "TotalWeight               0.00000\n",
       "PurchasePrice             0.00000\n",
       "TrackingNumber            8.60276\n",
       "PostalService             0.00000\n",
       "dtype: float64"
      ]
     },
     "execution_count": 9,
     "metadata": {},
     "output_type": "execute_result"
    }
   ],
   "source": [
    "round((df.isna().sum()/df.shape[0]*100), 5)"
   ]
  },
  {
   "cell_type": "code",
   "execution_count": 54,
   "id": "3d740560-8aa1-4c73-9d11-f3ddb57ec516",
   "metadata": {},
   "outputs": [
    {
     "data": {
      "text/plain": [
       "False    94915\n",
       "True       101\n",
       "dtype: int64"
      ]
     },
     "execution_count": 54,
     "metadata": {},
     "output_type": "execute_result"
    }
   ],
   "source": [
    "df.duplicated().value_counts()"
   ]
  },
  {
   "cell_type": "code",
   "execution_count": 57,
   "id": "e9630b65-9fc5-441c-84df-abd2137ccbf7",
   "metadata": {},
   "outputs": [],
   "source": [
    "# duplicated olan satırları ayrı bir csv yapıp kontrol edelim.\n",
    "df[df.duplicated()].to_csv(\"duplicated_satislar.csv\", index=False)"
   ]
  },
  {
   "cell_type": "code",
   "execution_count": null,
   "id": "26c8c2e0-92b3-45f2-8ee0-3aebbf3716d9",
   "metadata": {},
   "outputs": [],
   "source": [
    "# df.drop_duplicates(inplace=True)"
   ]
  },
  {
   "cell_type": "code",
   "execution_count": 46,
   "id": "79b0fa30-baac-4342-8395-6102dd051143",
   "metadata": {},
   "outputs": [],
   "source": [
    "# Object sütunları inceleyelim\n",
    "def obj_column_analysis(df):\n",
    "    object_col = df.select_dtypes(include = [\"object\"]) \n",
    "    for column in object_col:\n",
    "        print(f\"Sütun ismi: {column}\\nToplam farklı değer sayısı:\\\n",
    " {df[column].value_counts(dropna=False).count()}\\n\\nSütundaki toplam nan değer sayısı:\\\n",
    " {df[column].isna().sum()} \\n\\nFarklı değerlerin\\\n",
    "    sort edilmiş hali: \\n\\n{df[column].value_counts(dropna=False).sort_values(ascending=False)}\")\n",
    "        print(\"\\n\")\n",
    "        print(\"# \"*20)\n",
    "        print(\"\\n\")"
   ]
  },
  {
   "cell_type": "code",
   "execution_count": 47,
   "id": "22f3ce8a-f3f6-4ca5-a856-9d4e6812686c",
   "metadata": {
    "collapsed": true,
    "jupyter": {
     "outputs_hidden": true
    },
    "tags": []
   },
   "outputs": [
    {
     "name": "stdout",
     "output_type": "stream",
     "text": [
      "Sütun ismi: Company\n",
      "Toplam farklı değer sayısı: 748\n",
      "\n",
      "Sütundaki toplam nan değer sayısı: 38258 \n",
      "\n",
      "Farklı değerlerin    sort edilmiş hali: \n",
      "\n",
      "Redacted                      55736\n",
      "NaN                           38258\n",
      "Student                          36\n",
      "Home                             19\n",
      "Progress House Day Nursery       13\n",
      "                              ...  \n",
      "P and C Retail UK Limited         1\n",
      "Nudo.                             1\n",
      "Vanessa Fiorelli                  1\n",
      "CandidSky                         1\n",
      "8B Church Gate                    1\n",
      "Name: Company, Length: 748, dtype: int64\n",
      "\n",
      "\n",
      "# # # # # # # # # # # # # # # # # # # # \n",
      "\n",
      "\n",
      "Sütun ismi: CustomerID\n",
      "Toplam farklı değer sayısı: 32498\n",
      "\n",
      "Sütundaki toplam nan değer sayısı: 41 \n",
      "\n",
      "Farklı değerlerin    sort edilmiş hali: \n",
      "\n",
      "C0000001    55736\n",
      "C0000040       59\n",
      "NaN            41\n",
      "C0002496       27\n",
      "C0009544       16\n",
      "            ...  \n",
      "C0026267        1\n",
      "C0016631        1\n",
      "C0025719        1\n",
      "C0007579        1\n",
      "C0001333        1\n",
      "Name: CustomerID, Length: 32498, dtype: int64\n",
      "\n",
      "\n",
      "# # # # # # # # # # # # # # # # # # # # \n",
      "\n",
      "\n",
      "Sütun ismi: Post_Code\n",
      "Toplam farklı değer sayısı: 32798\n",
      "\n",
      "Sütundaki toplam nan değer sayısı: 44 \n",
      "\n",
      "Farklı değerlerin    sort edilmiş hali: \n",
      "\n",
      "Redacted    55736\n",
      "NaN            44\n",
      "SW15 4AH       36\n",
      "WS13 8UR       25\n",
      "N8 7EB         20\n",
      "            ...  \n",
      "DH7 0RN         1\n",
      "CO11 2JU        1\n",
      "SA11 2JU        1\n",
      "DN10 4HA        1\n",
      "SW2 5TN         1\n",
      "Name: Post_Code, Length: 32798, dtype: int64\n",
      "\n",
      "\n",
      "# # # # # # # # # # # # # # # # # # # # \n",
      "\n",
      "\n",
      "Sütun ismi: Country\n",
      "Toplam farklı değer sayısı: 25\n",
      "\n",
      "Sütundaki toplam nan değer sayısı: 0 \n",
      "\n",
      "Farklı değerlerin    sort edilmiş hali: \n",
      "\n",
      "United Kingdom            93326\n",
      "UNKNOWN                    1123\n",
      "Ireland                     172\n",
      "Germany                     130\n",
      "Italy                       107\n",
      "France                       66\n",
      "Spain                        39\n",
      "Jersey                       12\n",
      "Austria                      10\n",
      "Sweden                        5\n",
      "Romania                       4\n",
      "Malta                         3\n",
      "Netherlands                   3\n",
      "Portugal                      3\n",
      "Belgium                       2\n",
      "Luxembourg                    2\n",
      "Denmark                       1\n",
      "Guadaloupe                    1\n",
      "Lithuania                     1\n",
      "Hungary                       1\n",
      "Switzerland                   1\n",
      "Cyprus                        1\n",
      "British Virgin Islands        1\n",
      "Poland                        1\n",
      "United States                 1\n",
      "Name: Country, dtype: int64\n",
      "\n",
      "\n",
      "# # # # # # # # # # # # # # # # # # # # \n",
      "\n",
      "\n",
      "Sütun ismi: status\n",
      "Toplam farklı değer sayısı: 3\n",
      "\n",
      "Sütundaki toplam nan değer sayısı: 0 \n",
      "\n",
      "Farklı değerlerin    sort edilmiş hali: \n",
      "\n",
      "PAID      92908\n",
      "UNPAID     2106\n",
      "RESEND        2\n",
      "Name: status, dtype: int64\n",
      "\n",
      "\n",
      "# # # # # # # # # # # # # # # # # # # # \n",
      "\n",
      "\n",
      "Sütun ismi: Source\n",
      "Toplam farklı değer sayısı: 8\n",
      "\n",
      "Sütundaki toplam nan değer sayısı: 0 \n",
      "\n",
      "Farklı değerlerin    sort edilmiş hali: \n",
      "\n",
      "AMAZON            56111\n",
      "WOOCOMMERCE       21546\n",
      "EBAY               8813\n",
      "AMAZON FBA         5328\n",
      "ETSY               1793\n",
      "DIRECT             1024\n",
      "WAYFAIRCHANNEL      359\n",
      "OnBuy.com            42\n",
      "Name: Source, dtype: int64\n",
      "\n",
      "\n",
      "# # # # # # # # # # # # # # # # # # # # \n",
      "\n",
      "\n",
      "Sütun ismi: Currency\n",
      "Toplam farklı değer sayısı: 5\n",
      "\n",
      "Sütundaki toplam nan değer sayısı: 0 \n",
      "\n",
      "Farklı değerlerin    sort edilmiş hali: \n",
      "\n",
      "GBP    94304\n",
      "UNK      399\n",
      "EUR      307\n",
      "SEK        5\n",
      "PLN        1\n",
      "Name: Currency, dtype: int64\n",
      "\n",
      "\n",
      "# # # # # # # # # # # # # # # # # # # # \n",
      "\n",
      "\n",
      "Sütun ismi: OrderItemSKU\n",
      "Toplam farklı değer sayısı: 2670\n",
      "\n",
      "Sütundaki toplam nan değer sayısı: 0 \n",
      "\n",
      "Farklı değerlerin    sort edilmiş hali: \n",
      "\n",
      "2758        3809\n",
      "2762        1926\n",
      "2764        1187\n",
      "2763        1030\n",
      "47273-uk     965\n",
      "            ... \n",
      "49476-my       1\n",
      "49342-my       1\n",
      "48770-my       1\n",
      "48721          1\n",
      "3351           1\n",
      "Name: OrderItemSKU, Length: 2670, dtype: int64\n",
      "\n",
      "\n",
      "# # # # # # # # # # # # # # # # # # # # \n",
      "\n",
      "\n",
      "Sütun ismi: OrderItemTitle\n",
      "Toplam farklı değer sayısı: 2670\n",
      "\n",
      "Sütundaki toplam nan değer sayısı: 0 \n",
      "\n",
      "Farklı değerlerin    sort edilmiş hali: \n",
      "\n",
      "Myshaggy 380 Grey 80x150                                                                                                                                                           3809\n",
      "Myshaggy 380 Grey 120x170                                                                                                                                                          1926\n",
      "Myshaggy 380 Grey 160x230                                                                                                                                                          1187\n",
      "Myshaggy 380 Grey 140x200                                                                                                                                                          1030\n",
      "EFES 7437 grey 120X170                                                                                                                                                              963\n",
      "                                                                                                                                                                                   ... \n",
      "Linea Pistachio 200x66                                                                                                                                                                1\n",
      "Shaggy rugs Fluffy Rug Square Design Multicolour Long pile Modern living room Flokati Solid colour Uni | different dimensions | Children's room & youth room (160x220 cm, Grey)       1\n",
      "Flex Brown 120x170                                                                                                                                                                    1\n",
      "Myshaggy 385 Dark Grey/Ivory 80x150                                                                                                                                                   1\n",
      "Flex Grey 140x200                                                                                                                                                                     1\n",
      "Name: OrderItemTitle, Length: 2670, dtype: int64\n",
      "\n",
      "\n",
      "# # # # # # # # # # # # # # # # # # # # \n",
      "\n",
      "\n",
      "Sütun ismi: ItemCategory\n",
      "Toplam farklı değer sayısı: 26\n",
      "\n",
      "Sütundaki toplam nan değer sayısı: 0 \n",
      "\n",
      "Farklı değerlerin    sort edilmiş hali: \n",
      "\n",
      "New Myshaggy        24268\n",
      "Eco                 12769\n",
      "Myshaggy            11894\n",
      "Montana              7744\n",
      "Caimas               5433\n",
      "W.shaggy             4563\n",
      "Efes                 4359\n",
      "Gustavo              4072\n",
      "Marrakech            3358\n",
      "Rhapsody             2982\n",
      "New Myshaggy 381     2905\n",
      "Soft Shaggy          2462\n",
      "Default              2162\n",
      "Magic                2108\n",
      "Carina               1339\n",
      "Modern Shaggy         740\n",
      "Likewise              699\n",
      "382                   381\n",
      "Sheepskin             206\n",
      "Rug Gripper           172\n",
      "Lara                   98\n",
      "Basic Shaggy           86\n",
      "Stain Remover          78\n",
      "Medusa                 61\n",
      "Trend                  48\n",
      "Flex                   29\n",
      "Name: ItemCategory, dtype: int64\n",
      "\n",
      "\n",
      "# # # # # # # # # # # # # # # # # # # # \n",
      "\n",
      "\n",
      "Sütun ismi: TrackingNumber\n",
      "Toplam farklı değer sayısı: 49560\n",
      "\n",
      "Sütundaki toplam nan değer sayısı: 8174 \n",
      "\n",
      "Farklı değerlerin    sort edilmiş hali: \n",
      "\n",
      "42000000000000            28223\n",
      "NaN                        8174\n",
      "2020000000000000000000     3991\n",
      "1510000000000              1236\n",
      "42100000000000              475\n",
      "                          ...  \n",
      "7001163254                    1\n",
      "7001163249                    1\n",
      "7001163262                    1\n",
      "7001163250                    1\n",
      "7001621904                    1\n",
      "Name: TrackingNumber, Length: 49560, dtype: int64\n",
      "\n",
      "\n",
      "# # # # # # # # # # # # # # # # # # # # \n",
      "\n",
      "\n",
      "Sütun ismi: PostalService\n",
      "Toplam farklı değer sayısı: 20\n",
      "\n",
      "Sütundaki toplam nan değer sayısı: 0 \n",
      "\n",
      "Farklı değerlerin    sort edilmiş hali: \n",
      "\n",
      "Default                               62123\n",
      "New DHL - Next Day (Medium)            9849\n",
      "New DHL - Next Day (Small)             7875\n",
      "DX-Next Day, Box                       3603\n",
      "New DHL - Next Day (Large)             3138\n",
      "Royal Mail Tracked 24                  1856\n",
      "Royal Mail Tracked 24 Amazon Prime     1525\n",
      "DX-Next Day,Length                     1296\n",
      "2-5 Business Day                       1214\n",
      "Royal Mail Tracked 48                   683\n",
      "New DHL- 48 Hr+                         583\n",
      "DHL Likewise- Next Day                  440\n",
      "New DHL- Saturday Signature             405\n",
      "WAYFAIR                                 308\n",
      "DHL Likewise- 48 Hr                      47\n",
      "DX-Saturday, Box                         46\n",
      "DX-Saturday, Length                      11\n",
      "DX-B2B, Length                           10\n",
      "2-5 Business Days                         2\n",
      "DX-B2B, Box                               2\n",
      "Name: PostalService, dtype: int64\n",
      "\n",
      "\n",
      "# # # # # # # # # # # # # # # # # # # # \n",
      "\n",
      "\n"
     ]
    }
   ],
   "source": [
    "obj_column_analysis(df)"
   ]
  },
  {
   "cell_type": "code",
   "execution_count": null,
   "id": "a157c724-8a6b-4a01-a0ad-3b993d2012f5",
   "metadata": {},
   "outputs": [],
   "source": [
    "# Datamızdaki iki tarih sütünunun datatiplerini datetime olarak değiştiriyoruz. Sonraki satırlarda da bazı data tiplerini değşitireceğiz."
   ]
  },
  {
   "cell_type": "code",
   "execution_count": 11,
   "id": "3968b157-acdd-414b-b988-17687a79445c",
   "metadata": {},
   "outputs": [],
   "source": [
    "df[\"ReceivedDate\"] = pd.to_datetime(df[\"ReceivedDate\"])\n",
    "df[\"ProcessedDate\"] = pd.to_datetime(df[\"ProcessedDate\"])"
   ]
  },
  {
   "cell_type": "code",
   "execution_count": 12,
   "id": "151be7a3-246e-4027-a749-0e8cd76cf334",
   "metadata": {},
   "outputs": [],
   "source": [
    "df.OrderId = df.OrderId.astype(\"int32\")"
   ]
  },
  {
   "cell_type": "code",
   "execution_count": 13,
   "id": "a92d4724-aa73-4661-96a4-96623b35d799",
   "metadata": {},
   "outputs": [],
   "source": [
    "df.OrderItemQuantity = df.OrderItemQuantity.astype(\"int32\")"
   ]
  },
  {
   "cell_type": "code",
   "execution_count": null,
   "id": "9e019425-61e8-4a8c-83dd-486d3916f20a",
   "metadata": {},
   "outputs": [],
   "source": [
    "# silinen satırlar nedeniyle indexi mizi resetliyoruz."
   ]
  },
  {
   "cell_type": "code",
   "execution_count": 14,
   "id": "da7a4dcd-6324-4d5c-8c1b-afcc1189ea80",
   "metadata": {},
   "outputs": [],
   "source": [
    "df = df.sort_values(by = \"OrderId\")"
   ]
  },
  {
   "cell_type": "code",
   "execution_count": 15,
   "id": "842db4b5-984a-452e-aa2a-f288007ea270",
   "metadata": {},
   "outputs": [],
   "source": [
    "df.reset_index(drop = True, inplace=True)"
   ]
  },
  {
   "cell_type": "code",
   "execution_count": 58,
   "id": "70ec549b-ad09-4f5b-8607-a926ef4bb182",
   "metadata": {},
   "outputs": [],
   "source": [
    "df.to_csv(\"Satislar.csv\", index = False)"
   ]
  },
  {
   "cell_type": "markdown",
   "id": "d2e4cc41-b1ae-411f-9a41-9a55b47b83d9",
   "metadata": {},
   "source": [
    "## <p style=\"background-color:gray; font-family:newtimeroman; color:white; font-size:100%; text-align:center; border-radius:10px 10px;\">####</p>"
   ]
  },
  {
   "cell_type": "markdown",
   "id": "38e0267e-f47f-4894-bb21-20a3c9ae1fde",
   "metadata": {},
   "source": [
    "<h1><left><span style=\"color:LightCoral; opacity: 1;\">Date Sütunlarındaki problemi çözmek için yapılan çalışma</span></center></h1>"
   ]
  },
  {
   "cell_type": "code",
   "execution_count": null,
   "id": "10e6bf47-cc99-4423-8d9c-3764e05839b3",
   "metadata": {},
   "outputs": [],
   "source": [
    "# date içeren iki sütundaki hatalı olan değerleri düzeltebilmek için yeni bir df oluşturup bu sütunlardaki gerekli işlemleri yaptıktan sonra\n",
    "# tekrar ana datamıza ekleyeceğiz."
   ]
  },
  {
   "cell_type": "code",
   "execution_count": 39,
   "id": "1e2c8ca2-bef3-45b3-bdcc-4966ba102e11",
   "metadata": {},
   "outputs": [
    {
     "data": {
      "text/html": [
       "<div>\n",
       "<style scoped>\n",
       "    .dataframe tbody tr th:only-of-type {\n",
       "        vertical-align: middle;\n",
       "    }\n",
       "\n",
       "    .dataframe tbody tr th {\n",
       "        vertical-align: top;\n",
       "    }\n",
       "\n",
       "    .dataframe thead th {\n",
       "        text-align: right;\n",
       "    }\n",
       "</style>\n",
       "<table border=\"1\" class=\"dataframe\">\n",
       "  <thead>\n",
       "    <tr style=\"text-align: right;\">\n",
       "      <th></th>\n",
       "      <th>OrderId</th>\n",
       "      <th>ReceivedDate</th>\n",
       "      <th>ProcessedDate</th>\n",
       "      <th>difference_day</th>\n",
       "    </tr>\n",
       "  </thead>\n",
       "  <tbody>\n",
       "    <tr>\n",
       "      <th>0</th>\n",
       "      <td>100003</td>\n",
       "      <td>2019-11-12 18:58:00</td>\n",
       "      <td>2019-12-14 11:57:00</td>\n",
       "      <td>31 days 16:59:00</td>\n",
       "    </tr>\n",
       "    <tr>\n",
       "      <th>1</th>\n",
       "      <td>100004</td>\n",
       "      <td>2019-11-12 23:50:00</td>\n",
       "      <td>2019-12-12 17:17:00</td>\n",
       "      <td>29 days 17:27:00</td>\n",
       "    </tr>\n",
       "    <tr>\n",
       "      <th>2</th>\n",
       "      <td>100005</td>\n",
       "      <td>2019-11-12 21:13:00</td>\n",
       "      <td>2019-12-12 17:21:00</td>\n",
       "      <td>29 days 20:08:00</td>\n",
       "    </tr>\n",
       "    <tr>\n",
       "      <th>3</th>\n",
       "      <td>100006</td>\n",
       "      <td>2019-11-12 17:57:00</td>\n",
       "      <td>2019-12-13 09:33:00</td>\n",
       "      <td>30 days 15:36:00</td>\n",
       "    </tr>\n",
       "    <tr>\n",
       "      <th>4</th>\n",
       "      <td>100007</td>\n",
       "      <td>2019-11-12 18:16:00</td>\n",
       "      <td>2019-12-14 11:54:00</td>\n",
       "      <td>31 days 17:38:00</td>\n",
       "    </tr>\n",
       "  </tbody>\n",
       "</table>\n",
       "</div>"
      ],
      "text/plain": [
       "   OrderId        ReceivedDate       ProcessedDate   difference_day\n",
       "0   100003 2019-11-12 18:58:00 2019-12-14 11:57:00 31 days 16:59:00\n",
       "1   100004 2019-11-12 23:50:00 2019-12-12 17:17:00 29 days 17:27:00\n",
       "2   100005 2019-11-12 21:13:00 2019-12-12 17:21:00 29 days 20:08:00\n",
       "3   100006 2019-11-12 17:57:00 2019-12-13 09:33:00 30 days 15:36:00\n",
       "4   100007 2019-11-12 18:16:00 2019-12-14 11:54:00 31 days 17:38:00"
      ]
     },
     "execution_count": 39,
     "metadata": {},
     "output_type": "execute_result"
    }
   ],
   "source": [
    "datum1 = pd.to_datetime(df[\"ReceivedDate\"])\n",
    "datum2 = pd.to_datetime(df[\"ProcessedDate\"])\n",
    "order = df.OrderId\n",
    "datum = pd.concat([order, datum1, datum2], axis = 1)\n",
    "datum[\"difference_day\"] =  datum[\"ProcessedDate\"] - datum[\"ReceivedDate\"]\n",
    "datum.head()"
   ]
  },
  {
   "cell_type": "code",
   "execution_count": 17,
   "id": "9a5d3df7-651c-4868-84f1-7215c115fd1d",
   "metadata": {},
   "outputs": [
    {
     "data": {
      "text/plain": [
       "NaT                    3464\n",
       "2022-10-01 17:35:00      53\n",
       "2022-10-01 17:36:00      47\n",
       "2021-12-20 15:51:00      46\n",
       "2022-10-01 17:33:00      46\n",
       "                       ... \n",
       "2021-11-30 15:55:00       1\n",
       "2021-01-12 10:08:00       1\n",
       "2021-11-30 16:08:00       1\n",
       "2021-01-12 10:05:00       1\n",
       "2022-03-12 22:17:00       1\n",
       "Name: ProcessedDate, Length: 47255, dtype: int64"
      ]
     },
     "execution_count": 17,
     "metadata": {},
     "output_type": "execute_result"
    }
   ],
   "source": [
    "df.ProcessedDate.value_counts(dropna = False)"
   ]
  },
  {
   "cell_type": "code",
   "execution_count": 30,
   "id": "dff53e04-0f75-4831-b97d-86c780ce907a",
   "metadata": {},
   "outputs": [
    {
     "data": {
      "text/plain": [
       "0.23727499126179658"
      ]
     },
     "execution_count": 30,
     "metadata": {},
     "output_type": "execute_result"
    }
   ],
   "source": [
    "datum['difference_day'].dt.days.mean()"
   ]
  },
  {
   "cell_type": "code",
   "execution_count": 40,
   "id": "75f36bc1-a766-49ea-8192-b4664970d17e",
   "metadata": {},
   "outputs": [],
   "source": [
    "datum.loc[datum['difference_day'].dt.days > 10 , ['ReceivedDate', 'ProcessedDate']] = np.nan\n",
    "datum.loc[datum['difference_day'].dt.days < 0 , ['ReceivedDate', 'ProcessedDate']] = np.nan"
   ]
  },
  {
   "cell_type": "code",
   "execution_count": 34,
   "id": "64d81e34-d333-4875-8b47-e0dc4a413c66",
   "metadata": {},
   "outputs": [
    {
     "data": {
      "text/plain": [
       "0.40379795031252974"
      ]
     },
     "execution_count": 34,
     "metadata": {},
     "output_type": "execute_result"
    }
   ],
   "source": [
    "# 10 dan büyük ve 0 dan küçük olan günlerdeki tarih verilerini sildikten sonra gün ordalaması\n",
    "datum[\"1_dif\"] =  datum[\"ProcessedDate\"] - datum[\"ReceivedDate\"]\n",
    "datum[\"1_dif\"].dt.days.mean()"
   ]
  },
  {
   "cell_type": "code",
   "execution_count": 41,
   "id": "348b5691-48b8-466d-a9f6-bc40e52c76fa",
   "metadata": {},
   "outputs": [
    {
     "data": {
      "text/plain": [
       "0"
      ]
     },
     "execution_count": 41,
     "metadata": {},
     "output_type": "execute_result"
    }
   ],
   "source": [
    "datum.ReceivedDate.fillna(method='ffill',inplace= True)\n",
    "datum.ReceivedDate.fillna(method='bfill',inplace= True)\n",
    "datum.ReceivedDate.isna().sum()"
   ]
  },
  {
   "cell_type": "code",
   "execution_count": 36,
   "id": "fcddb9d1-b957-466f-807c-5b780c47762d",
   "metadata": {},
   "outputs": [
    {
     "data": {
      "text/plain": [
       "0.40379795031252974"
      ]
     },
     "execution_count": 36,
     "metadata": {},
     "output_type": "execute_result"
    }
   ],
   "source": [
    "# ReceivedDate tarihlerini alt ve üsttekilerle düzelttikten sonra ki ortalama\n",
    "datum[\"2_dif\"] =  datum[\"ProcessedDate\"] - datum[\"ReceivedDate\"]\n",
    "datum[\"2_dif\"].dt.days.mean()"
   ]
  },
  {
   "cell_type": "code",
   "execution_count": null,
   "id": "d3129774-6fc2-450b-a10c-24aea04a617d",
   "metadata": {},
   "outputs": [],
   "source": [
    "datum.ProcessedDate.fillna(method='ffill',inplace= True)\n",
    "datum.ProcessedDate.fillna(method='bfill',inplace= True)\n",
    "datum.ProcessedDate.isnull().sum()"
   ]
  },
  {
   "cell_type": "code",
   "execution_count": 37,
   "id": "e07a998c-a17f-47ed-a6c6-328e879fbfad",
   "metadata": {},
   "outputs": [
    {
     "data": {
      "text/plain": [
       "0"
      ]
     },
     "execution_count": 37,
     "metadata": {},
     "output_type": "execute_result"
    }
   ],
   "source": [
    "mask = pd.isnull(datum['ProcessedDate'])\n",
    "datum['ProcessedDate'] = datum['ProcessedDate'].where(~mask, datum['ReceivedDate'] + pd.Timedelta(days=1))\n",
    "\n",
    "datum.ProcessedDate.isnull().sum()"
   ]
  },
  {
   "cell_type": "code",
   "execution_count": 38,
   "id": "04996965-1fdc-47dc-a415-6c9254241d5a",
   "metadata": {},
   "outputs": [
    {
     "data": {
      "text/plain": [
       "0.604477140692094"
      ]
     },
     "execution_count": 38,
     "metadata": {},
     "output_type": "execute_result"
    }
   ],
   "source": [
    "# ProcessedDate i ReceivedDate sütunundaki değerlere 1 gün ekleyerek doldurduktan sonraki ortama\n",
    "datum[\"3_day\"] =  datum[\"ProcessedDate\"] - datum[\"ReceivedDate\"]\n",
    "datum['3_day'].dt.days.mean()"
   ]
  },
  {
   "cell_type": "code",
   "execution_count": 42,
   "id": "a75d8862-82f9-4b0d-a08b-7fe0072a9c91",
   "metadata": {},
   "outputs": [
    {
     "data": {
      "text/plain": [
       "0"
      ]
     },
     "execution_count": 42,
     "metadata": {},
     "output_type": "execute_result"
    }
   ],
   "source": [
    "mask = pd.isnull(datum['ProcessedDate'])\n",
    "datum['ProcessedDate'] = datum['ProcessedDate'].where(~mask, datum['ReceivedDate'])\n",
    "\n",
    "datum.ProcessedDate.isnull().sum()"
   ]
  },
  {
   "cell_type": "code",
   "execution_count": 43,
   "id": "67c3e78e-fedf-4132-9e0d-fe81c88cb1a1",
   "metadata": {},
   "outputs": [
    {
     "data": {
      "text/plain": [
       "0.2678811989559653"
      ]
     },
     "execution_count": 43,
     "metadata": {},
     "output_type": "execute_result"
    }
   ],
   "source": [
    "# ProcessedDate i ReceivedDate sütunundaki aynı değerlerle doldurduktan sonraki ortama\n",
    "datum[\"3_day\"] =  datum[\"ProcessedDate\"] - datum[\"ReceivedDate\"]\n",
    "datum['3_day'].dt.days.mean()"
   ]
  },
  {
   "cell_type": "markdown",
   "id": "7f386f85-8cd6-4fa9-9b3d-2030aa2e000f",
   "metadata": {},
   "source": [
    "<span style=\"color:DeepPink\"> Uygun olana karar verip ona göre son uygulamayı yapalım</span><br>"
   ]
  },
  {
   "cell_type": "code",
   "execution_count": null,
   "id": "0f0834fb-d135-49d3-9e61-cd49b8b41d63",
   "metadata": {},
   "outputs": [],
   "source": [
    "# Uygun olan değerlerle date sütunlarındaki hataları çözüyoruz.\n",
    "df.ReceivedDate = datum.ReceivedDate\n",
    "df.ProcessedDate = datum.ProcessedDate\n",
    "df[\"day_difference\"] = (df.ProcessedDate - df.ReceivedDate).dt.days"
   ]
  },
  {
   "cell_type": "markdown",
   "id": "050ae31a-c33c-47d3-bba3-6b80a3a24ad9",
   "metadata": {},
   "source": [
    "## <p style=\"background-color:gray; font-family:newtimeroman; color:white; font-size:100%; text-align:center; border-radius:10px 10px;\">####</p>"
   ]
  },
  {
   "cell_type": "code",
   "execution_count": 45,
   "id": "d4a18af5-510e-4d44-b62f-b497ba048b0c",
   "metadata": {},
   "outputs": [
    {
     "data": {
      "text/html": [
       "<div>\n",
       "<style scoped>\n",
       "    .dataframe tbody tr th:only-of-type {\n",
       "        vertical-align: middle;\n",
       "    }\n",
       "\n",
       "    .dataframe tbody tr th {\n",
       "        vertical-align: top;\n",
       "    }\n",
       "\n",
       "    .dataframe thead th {\n",
       "        text-align: right;\n",
       "    }\n",
       "</style>\n",
       "<table border=\"1\" class=\"dataframe\">\n",
       "  <thead>\n",
       "    <tr style=\"text-align: right;\">\n",
       "      <th></th>\n",
       "      <th>OrderId</th>\n",
       "      <th>Company</th>\n",
       "      <th>CustomerID</th>\n",
       "      <th>Post_Code</th>\n",
       "      <th>ReceivedDate</th>\n",
       "      <th>Country</th>\n",
       "      <th>status</th>\n",
       "      <th>Processed</th>\n",
       "      <th>ProcessedDate</th>\n",
       "      <th>Source</th>\n",
       "      <th>...</th>\n",
       "      <th>Total</th>\n",
       "      <th>OrderItemSKU</th>\n",
       "      <th>OrderItemTitle</th>\n",
       "      <th>ItemCategory</th>\n",
       "      <th>OrderItemQuantity</th>\n",
       "      <th>DispatchStockUnitCost</th>\n",
       "      <th>TotalWeight</th>\n",
       "      <th>PurchasePrice</th>\n",
       "      <th>TrackingNumber</th>\n",
       "      <th>PostalService</th>\n",
       "    </tr>\n",
       "  </thead>\n",
       "  <tbody>\n",
       "    <tr>\n",
       "      <th>0</th>\n",
       "      <td>100003</td>\n",
       "      <td>Redacted</td>\n",
       "      <td>C0000001</td>\n",
       "      <td>Redacted</td>\n",
       "      <td>2019-11-12 18:58:00</td>\n",
       "      <td>United Kingdom</td>\n",
       "      <td>PAID</td>\n",
       "      <td>1.0</td>\n",
       "      <td>2019-12-14 11:57:00</td>\n",
       "      <td>AMAZON</td>\n",
       "      <td>...</td>\n",
       "      <td>49.9</td>\n",
       "      <td>47266-my</td>\n",
       "      <td>EFES 7434 grau 160X230</td>\n",
       "      <td>Default</td>\n",
       "      <td>1</td>\n",
       "      <td>0.0</td>\n",
       "      <td>0.0</td>\n",
       "      <td>0.00</td>\n",
       "      <td>NaN</td>\n",
       "      <td>Default</td>\n",
       "    </tr>\n",
       "    <tr>\n",
       "      <th>1</th>\n",
       "      <td>100004</td>\n",
       "      <td>Redacted</td>\n",
       "      <td>C0000001</td>\n",
       "      <td>Redacted</td>\n",
       "      <td>2019-11-12 23:50:00</td>\n",
       "      <td>United Kingdom</td>\n",
       "      <td>PAID</td>\n",
       "      <td>1.0</td>\n",
       "      <td>2019-12-12 17:17:00</td>\n",
       "      <td>AMAZON</td>\n",
       "      <td>...</td>\n",
       "      <td>39.9</td>\n",
       "      <td>47273-uk</td>\n",
       "      <td>Mynes Home UK Grey Rug Plain Pattern Living Ro...</td>\n",
       "      <td>Default</td>\n",
       "      <td>1</td>\n",
       "      <td>0.0</td>\n",
       "      <td>0.0</td>\n",
       "      <td>0.00</td>\n",
       "      <td>2020000000000000000000</td>\n",
       "      <td>Default</td>\n",
       "    </tr>\n",
       "    <tr>\n",
       "      <th>2</th>\n",
       "      <td>100005</td>\n",
       "      <td>Redacted</td>\n",
       "      <td>C0000001</td>\n",
       "      <td>Redacted</td>\n",
       "      <td>2019-11-12 21:13:00</td>\n",
       "      <td>United Kingdom</td>\n",
       "      <td>PAID</td>\n",
       "      <td>1.0</td>\n",
       "      <td>2019-12-12 17:21:00</td>\n",
       "      <td>AMAZON</td>\n",
       "      <td>...</td>\n",
       "      <td>79.9</td>\n",
       "      <td>47267-my</td>\n",
       "      <td>Mynes Home UK Grey Rug Wavy Pattern Living Roo...</td>\n",
       "      <td>Default</td>\n",
       "      <td>1</td>\n",
       "      <td>0.0</td>\n",
       "      <td>0.0</td>\n",
       "      <td>0.00</td>\n",
       "      <td>2020000000000000000000</td>\n",
       "      <td>Default</td>\n",
       "    </tr>\n",
       "    <tr>\n",
       "      <th>3</th>\n",
       "      <td>100006</td>\n",
       "      <td>Redacted</td>\n",
       "      <td>C0000001</td>\n",
       "      <td>Redacted</td>\n",
       "      <td>2019-11-12 17:57:00</td>\n",
       "      <td>United Kingdom</td>\n",
       "      <td>PAID</td>\n",
       "      <td>1.0</td>\n",
       "      <td>2019-12-13 09:33:00</td>\n",
       "      <td>AMAZON</td>\n",
       "      <td>...</td>\n",
       "      <td>39.9</td>\n",
       "      <td>47273-uk</td>\n",
       "      <td>Mynes Home UK Grey Rug Plain Pattern Living Ro...</td>\n",
       "      <td>Default</td>\n",
       "      <td>1</td>\n",
       "      <td>0.0</td>\n",
       "      <td>0.0</td>\n",
       "      <td>0.00</td>\n",
       "      <td>2020000000000000000000</td>\n",
       "      <td>Default</td>\n",
       "    </tr>\n",
       "    <tr>\n",
       "      <th>4</th>\n",
       "      <td>100007</td>\n",
       "      <td>NaN</td>\n",
       "      <td>C0005444</td>\n",
       "      <td>HP13 6JT</td>\n",
       "      <td>2019-11-12 18:16:00</td>\n",
       "      <td>United Kingdom</td>\n",
       "      <td>PAID</td>\n",
       "      <td>1.0</td>\n",
       "      <td>2019-12-14 11:54:00</td>\n",
       "      <td>EBAY</td>\n",
       "      <td>...</td>\n",
       "      <td>54.9</td>\n",
       "      <td>47278-uk</td>\n",
       "      <td>EFES 7437 beige 160X230</td>\n",
       "      <td>Efes</td>\n",
       "      <td>1</td>\n",
       "      <td>0.0</td>\n",
       "      <td>0.0</td>\n",
       "      <td>15.09</td>\n",
       "      <td>NaN</td>\n",
       "      <td>Default</td>\n",
       "    </tr>\n",
       "  </tbody>\n",
       "</table>\n",
       "<p>5 rows × 23 columns</p>\n",
       "</div>"
      ],
      "text/plain": [
       "   OrderId   Company CustomerID Post_Code        ReceivedDate         Country  \\\n",
       "0   100003  Redacted   C0000001  Redacted 2019-11-12 18:58:00  United Kingdom   \n",
       "1   100004  Redacted   C0000001  Redacted 2019-11-12 23:50:00  United Kingdom   \n",
       "2   100005  Redacted   C0000001  Redacted 2019-11-12 21:13:00  United Kingdom   \n",
       "3   100006  Redacted   C0000001  Redacted 2019-11-12 17:57:00  United Kingdom   \n",
       "4   100007       NaN   C0005444  HP13 6JT 2019-11-12 18:16:00  United Kingdom   \n",
       "\n",
       "  status  Processed       ProcessedDate  Source  ... Total  OrderItemSKU  \\\n",
       "0   PAID        1.0 2019-12-14 11:57:00  AMAZON  ...  49.9      47266-my   \n",
       "1   PAID        1.0 2019-12-12 17:17:00  AMAZON  ...  39.9      47273-uk   \n",
       "2   PAID        1.0 2019-12-12 17:21:00  AMAZON  ...  79.9      47267-my   \n",
       "3   PAID        1.0 2019-12-13 09:33:00  AMAZON  ...  39.9      47273-uk   \n",
       "4   PAID        1.0 2019-12-14 11:54:00    EBAY  ...  54.9      47278-uk   \n",
       "\n",
       "                                      OrderItemTitle  ItemCategory  \\\n",
       "0                             EFES 7434 grau 160X230       Default   \n",
       "1  Mynes Home UK Grey Rug Plain Pattern Living Ro...       Default   \n",
       "2  Mynes Home UK Grey Rug Wavy Pattern Living Roo...       Default   \n",
       "3  Mynes Home UK Grey Rug Plain Pattern Living Ro...       Default   \n",
       "4                            EFES 7437 beige 160X230          Efes   \n",
       "\n",
       "  OrderItemQuantity DispatchStockUnitCost TotalWeight  PurchasePrice  \\\n",
       "0                 1                   0.0         0.0           0.00   \n",
       "1                 1                   0.0         0.0           0.00   \n",
       "2                 1                   0.0         0.0           0.00   \n",
       "3                 1                   0.0         0.0           0.00   \n",
       "4                 1                   0.0         0.0          15.09   \n",
       "\n",
       "           TrackingNumber  PostalService  \n",
       "0                     NaN        Default  \n",
       "1  2020000000000000000000        Default  \n",
       "2  2020000000000000000000        Default  \n",
       "3  2020000000000000000000        Default  \n",
       "4                     NaN        Default  \n",
       "\n",
       "[5 rows x 23 columns]"
      ]
     },
     "execution_count": 45,
     "metadata": {},
     "output_type": "execute_result"
    }
   ],
   "source": [
    "df.head()"
   ]
  },
  {
   "cell_type": "code",
   "execution_count": 49,
   "id": "2f750106-a2d9-4e04-9dac-518c9309b87b",
   "metadata": {},
   "outputs": [
    {
     "data": {
      "text/html": [
       "<div>\n",
       "<style scoped>\n",
       "    .dataframe tbody tr th:only-of-type {\n",
       "        vertical-align: middle;\n",
       "    }\n",
       "\n",
       "    .dataframe tbody tr th {\n",
       "        vertical-align: top;\n",
       "    }\n",
       "\n",
       "    .dataframe thead th {\n",
       "        text-align: right;\n",
       "    }\n",
       "</style>\n",
       "<table border=\"1\" class=\"dataframe\">\n",
       "  <thead>\n",
       "    <tr style=\"text-align: right;\">\n",
       "      <th></th>\n",
       "      <th>Currency</th>\n",
       "      <th>Total</th>\n",
       "    </tr>\n",
       "  </thead>\n",
       "  <tbody>\n",
       "    <tr>\n",
       "      <th>0</th>\n",
       "      <td>GBP</td>\n",
       "      <td>49.90</td>\n",
       "    </tr>\n",
       "    <tr>\n",
       "      <th>1</th>\n",
       "      <td>GBP</td>\n",
       "      <td>39.90</td>\n",
       "    </tr>\n",
       "    <tr>\n",
       "      <th>2</th>\n",
       "      <td>GBP</td>\n",
       "      <td>79.90</td>\n",
       "    </tr>\n",
       "    <tr>\n",
       "      <th>3</th>\n",
       "      <td>GBP</td>\n",
       "      <td>39.90</td>\n",
       "    </tr>\n",
       "    <tr>\n",
       "      <th>4</th>\n",
       "      <td>GBP</td>\n",
       "      <td>54.90</td>\n",
       "    </tr>\n",
       "    <tr>\n",
       "      <th>...</th>\n",
       "      <td>...</td>\n",
       "      <td>...</td>\n",
       "    </tr>\n",
       "    <tr>\n",
       "      <th>95011</th>\n",
       "      <td>GBP</td>\n",
       "      <td>29.98</td>\n",
       "    </tr>\n",
       "    <tr>\n",
       "      <th>95012</th>\n",
       "      <td>UNK</td>\n",
       "      <td>0.00</td>\n",
       "    </tr>\n",
       "    <tr>\n",
       "      <th>95013</th>\n",
       "      <td>GBP</td>\n",
       "      <td>33.99</td>\n",
       "    </tr>\n",
       "    <tr>\n",
       "      <th>95014</th>\n",
       "      <td>GBP</td>\n",
       "      <td>93.41</td>\n",
       "    </tr>\n",
       "    <tr>\n",
       "      <th>95015</th>\n",
       "      <td>GBP</td>\n",
       "      <td>9.99</td>\n",
       "    </tr>\n",
       "  </tbody>\n",
       "</table>\n",
       "<p>95016 rows × 2 columns</p>\n",
       "</div>"
      ],
      "text/plain": [
       "      Currency  Total\n",
       "0          GBP  49.90\n",
       "1          GBP  39.90\n",
       "2          GBP  79.90\n",
       "3          GBP  39.90\n",
       "4          GBP  54.90\n",
       "...        ...    ...\n",
       "95011      GBP  29.98\n",
       "95012      UNK   0.00\n",
       "95013      GBP  33.99\n",
       "95014      GBP  93.41\n",
       "95015      GBP   9.99\n",
       "\n",
       "[95016 rows x 2 columns]"
      ]
     },
     "execution_count": 49,
     "metadata": {},
     "output_type": "execute_result"
    }
   ],
   "source": [
    "df[[\"Currency\", \"Total\"]]"
   ]
  },
  {
   "cell_type": "code",
   "execution_count": null,
   "id": "ef70d066-f783-4bc9-b166-aaaad83f3f30",
   "metadata": {},
   "outputs": [],
   "source": []
  },
  {
   "cell_type": "code",
   "execution_count": null,
   "id": "9289180d-6b43-4163-8985-376229844d5f",
   "metadata": {},
   "outputs": [],
   "source": []
  },
  {
   "cell_type": "code",
   "execution_count": null,
   "id": "0a3b848b-92b7-421e-87d1-0169ad2e7ab9",
   "metadata": {},
   "outputs": [],
   "source": []
  },
  {
   "cell_type": "code",
   "execution_count": null,
   "id": "ed800807-8bef-41e1-8cf9-2a6174d0178d",
   "metadata": {},
   "outputs": [],
   "source": []
  },
  {
   "cell_type": "code",
   "execution_count": null,
   "id": "7b6fab86-7c07-4de5-8bc4-ea152d2cfc76",
   "metadata": {},
   "outputs": [],
   "source": []
  },
  {
   "cell_type": "code",
   "execution_count": null,
   "id": "b97c0e43-6104-45cb-af9d-382939330d7f",
   "metadata": {},
   "outputs": [],
   "source": []
  },
  {
   "cell_type": "code",
   "execution_count": null,
   "id": "1157384a-844a-469b-8896-672dd3bd827c",
   "metadata": {},
   "outputs": [],
   "source": []
  },
  {
   "cell_type": "code",
   "execution_count": null,
   "id": "b0c62da2-e54d-4c50-a19d-8b87de65c976",
   "metadata": {},
   "outputs": [],
   "source": []
  },
  {
   "cell_type": "code",
   "execution_count": null,
   "id": "4ae0b6db-1e72-4f24-b706-3a7d4666b9b2",
   "metadata": {},
   "outputs": [],
   "source": [
    "# OrderItemSKU diğer tablolarla bağlandı değeri olacağı için onu atmıyoruz.\n",
    "df = df.drop([\"Company\", \"TrackingNumber\", \"Processed\", \"Subtotal\", \"Tax\", \"DispatchStockUnitCost\"], axis = 1)"
   ]
  },
  {
   "cell_type": "code",
   "execution_count": null,
   "id": "ec302fac-f62b-4724-806c-226e65cf10a0",
   "metadata": {},
   "outputs": [],
   "source": [
    "df.to_csv(\"Satislar.csv\", index=False)"
   ]
  },
  {
   "cell_type": "markdown",
   "id": "a0955d8b-2580-4c6f-a7fd-1e8af95d43fd",
   "metadata": {},
   "source": [
    "## <p style=\"background-color:green; font-family:newtimeroman; color:white; font-size:100%; text-align:center; border-radius:10px 10px;\">data cleaning birinci adım tamamlanmış hali ile devam</p>"
   ]
  },
  {
   "cell_type": "code",
   "execution_count": null,
   "id": "2a38cc66-8062-4493-a752-c88ec7729951",
   "metadata": {},
   "outputs": [],
   "source": []
  },
  {
   "cell_type": "code",
   "execution_count": null,
   "id": "f1d87157-a757-4898-876c-1f2af319ddea",
   "metadata": {},
   "outputs": [],
   "source": [
    "df1 = pd.read_csv(\"Satislar.csv\")"
   ]
  },
  {
   "cell_type": "code",
   "execution_count": null,
   "id": "3b547762-9206-4ce0-b195-3c2af1992330",
   "metadata": {},
   "outputs": [],
   "source": [
    "df.info()"
   ]
  },
  {
   "cell_type": "code",
   "execution_count": null,
   "id": "fb9a224b-b587-4abf-90dc-f28321523264",
   "metadata": {},
   "outputs": [],
   "source": [
    "df1.select_dtypes(include = \"number\").isna().sum()"
   ]
  },
  {
   "cell_type": "code",
   "execution_count": null,
   "id": "3691af7e-cd56-4bb1-85c7-cd843ea986b5",
   "metadata": {},
   "outputs": [],
   "source": [
    "df1.status.value_counts()"
   ]
  },
  {
   "cell_type": "code",
   "execution_count": null,
   "id": "c39692a6-fa7c-4e3d-962f-15d164c6239e",
   "metadata": {},
   "outputs": [],
   "source": [
    "df1.Country.value_counts()"
   ]
  },
  {
   "cell_type": "code",
   "execution_count": null,
   "id": "6683d3eb-6b06-4f16-842d-22768c433e39",
   "metadata": {},
   "outputs": [],
   "source": []
  },
  {
   "cell_type": "code",
   "execution_count": null,
   "id": "fe40ce44-ffe5-41a6-a8f8-8698edb4e834",
   "metadata": {},
   "outputs": [],
   "source": []
  },
  {
   "cell_type": "code",
   "execution_count": null,
   "id": "fbb2545e-c772-4251-9263-7b7c207eccce",
   "metadata": {},
   "outputs": [],
   "source": []
  },
  {
   "cell_type": "code",
   "execution_count": null,
   "id": "d4cc7607-cb4e-4a54-b48a-ed4f9a1b738e",
   "metadata": {},
   "outputs": [],
   "source": []
  },
  {
   "cell_type": "code",
   "execution_count": null,
   "id": "172b962f-3cfc-4670-8932-cf57c24b46cd",
   "metadata": {},
   "outputs": [],
   "source": [
    "df1[\"difference_day\"] =  df1[\"ProcessedDate\"] - df1[\"received_date\"]\n",
    "(df1.difference_day.dt.days).value_counts(dropna=False)"
   ]
  },
  {
   "cell_type": "code",
   "execution_count": null,
   "id": "1e77431f-3ef2-4c92-920f-fd890d783f4e",
   "metadata": {},
   "outputs": [],
   "source": [
    "(df1.difference_day.dt.days > 10).value_counts()"
   ]
  },
  {
   "cell_type": "code",
   "execution_count": null,
   "id": "11f358ea-02bd-43a1-9b1f-e1027d35f77b",
   "metadata": {},
   "outputs": [],
   "source": [
    "(df1.difference_day.dt.days < 0).value_counts()"
   ]
  },
  {
   "cell_type": "code",
   "execution_count": null,
   "id": "4d29c931-ccf9-4f1f-96c0-59a9e33cfbea",
   "metadata": {},
   "outputs": [],
   "source": [
    "df1[df1.difference_day.dt.days > 500]"
   ]
  },
  {
   "cell_type": "code",
   "execution_count": null,
   "id": "1c2366a1-cf9c-42f6-b23b-ccf27a1b73f8",
   "metadata": {},
   "outputs": [],
   "source": [
    "value_counts"
   ]
  },
  {
   "cell_type": "code",
   "execution_count": null,
   "id": "f10fcf28-f76c-4c80-b9ea-f7c3c1b56cbc",
   "metadata": {},
   "outputs": [],
   "source": [
    "df1.Processed.value_counts()"
   ]
  },
  {
   "cell_type": "code",
   "execution_count": null,
   "id": "3d9867b3-64bf-494e-a94a-7adca3abe80e",
   "metadata": {},
   "outputs": [],
   "source": [
    "from columnAnalysis import *"
   ]
  },
  {
   "cell_type": "code",
   "execution_count": null,
   "id": "df4bc69c-410c-474c-83f2-0486e0e96b87",
   "metadata": {
    "tags": []
   },
   "outputs": [],
   "source": [
    "column_analysis_num(df1)"
   ]
  },
  {
   "cell_type": "code",
   "execution_count": null,
   "id": "ef92144b-aad5-4009-b3fc-0324c1e974b4",
   "metadata": {},
   "outputs": [],
   "source": [
    "df1.OrderItemQuantity.value_counts()"
   ]
  },
  {
   "cell_type": "code",
   "execution_count": null,
   "id": "a7c473ec-c0cc-4cd6-bcf4-9d81dedc5d6e",
   "metadata": {},
   "outputs": [],
   "source": [
    "korelasyon(df1)"
   ]
  },
  {
   "cell_type": "code",
   "execution_count": null,
   "id": "b4a5492f-8022-4ba0-955c-23562f2773aa",
   "metadata": {},
   "outputs": [],
   "source": [
    "df1[[\"Subtotal\", \"Total\", \"Tax\"]] # total bırakılıp subtotal ve tax düşürülebilir."
   ]
  },
  {
   "cell_type": "code",
   "execution_count": null,
   "id": "4b8ec8f3-fe4a-4974-94e9-accaae146113",
   "metadata": {},
   "outputs": [],
   "source": [
    "out_std_detect(df1, \"Total\") # std*3 e göre outlier var mı?"
   ]
  },
  {
   "cell_type": "code",
   "execution_count": null,
   "id": "499581f4-0ac7-444d-b664-f2d2ab7ab86c",
   "metadata": {},
   "outputs": [],
   "source": [
    "outlier_detect_iqr(df1, \"Total\") # quantillere göre outlier var mı?"
   ]
  },
  {
   "cell_type": "code",
   "execution_count": null,
   "id": "42c677c4-b14f-4c7c-a441-a2d927917c1c",
   "metadata": {},
   "outputs": [],
   "source": []
  },
  {
   "cell_type": "code",
   "execution_count": null,
   "id": "ad40acd5-fdde-4068-a21e-712e67d05830",
   "metadata": {},
   "outputs": [],
   "source": []
  },
  {
   "cell_type": "code",
   "execution_count": null,
   "id": "12f6357c-41b0-46c9-aa3a-079bad66910b",
   "metadata": {},
   "outputs": [],
   "source": []
  },
  {
   "cell_type": "code",
   "execution_count": null,
   "id": "e0588a9d-10a6-47e2-a2c2-acdc475b5ce3",
   "metadata": {},
   "outputs": [],
   "source": [
    "amazon_satislar = df[df.customer_id== \"C0000001\"]\n",
    "other_satislar = df[df.customer_id != \"C0000001\"]"
   ]
  },
  {
   "cell_type": "code",
   "execution_count": null,
   "id": "fa0e7d9c-edda-45d7-90bd-78078deadcc5",
   "metadata": {},
   "outputs": [],
   "source": [
    "amazon_satislar.to_csv('amazon_satislar.csv', index=False)\n",
    "other_satislar.to_csv('other_satislar.csv', index=False)"
   ]
  }
 ],
 "metadata": {
  "kernelspec": {
   "display_name": "Python 3 (ipykernel)",
   "language": "python",
   "name": "python3"
  },
  "language_info": {
   "codemirror_mode": {
    "name": "ipython",
    "version": 3
   },
   "file_extension": ".py",
   "mimetype": "text/x-python",
   "name": "python",
   "nbconvert_exporter": "python",
   "pygments_lexer": "ipython3",
   "version": "3.9.13"
  }
 },
 "nbformat": 4,
 "nbformat_minor": 5
}
